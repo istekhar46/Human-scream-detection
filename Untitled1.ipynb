{
 "cells": [
  {
   "cell_type": "code",
   "execution_count": null,
   "id": "5b6ed0a6",
   "metadata": {},
   "outputs": [],
   "source": [
    "import pandas as pd\n",
    "\n",
    "from keras.models import Sequential\n",
    "from keras.layers import Dense\n",
    "df = pd.read_csv('newresources.csv', index_col=0, engine = 'c')\n",
    "file = open(\"begining index of testing files.txt\",\"r\")\n",
    "data1 = int(file.read())\n",
    "file.close()\n",
    "row_num_for_verification_of_model = data1\n",
    "X = df.iloc[:row_num_for_verification_of_model,1:]  #independent variables columnns\n",
    "print(row_num_for_verification_of_model)\n",
    "X2 = df.iloc[row_num_for_verification_of_model:,1:]\n",
    "file = open(\"input dimension for model.txt\",\"r\")\n",
    "data2 = int(file.read())\n",
    "file.close()\n",
    "print(data2)\n",
    "total_number_of_column_required_for_prediction = data2\n",
    "column_number_of_csv_having_labels = 0\n",
    "y = df.iloc[:data1,column_number_of_csv_having_labels] # dependent variable column\n",
    "\n",
    "\n",
    "\n",
    "# Defining the keras model--->>>\n",
    "\n",
    "\n",
    "model = Sequential()\n",
    "model.add(Dense(12, input_dim=total_number_of_column_required_for_prediction, activation='relu'))\n",
    "model.add(Dense(10, activation='relu'))\n",
    "model.add(Dense(9, activation='relu'))\n",
    "model.add(Dense(5, activation='relu'))\n",
    "model.add(Dense(3, activation='relu'))\n",
    "model.add(Dense(1, activation='sigmoid'))\n",
    "\n",
    "\n",
    "# compilation of keras model--->>>>\n",
    "\n",
    "model.compile(loss='binary_crossentropy', optimizer='adam', metrics=['accuracy'])\n",
    "\n"
   ]
  },
  {
   "cell_type": "code",
   "execution_count": null,
   "id": "fc7c1337",
   "metadata": {},
   "outputs": [],
   "source": [
    "display(X)"
   ]
  },
  {
   "cell_type": "code",
   "execution_count": null,
   "id": "73355fea",
   "metadata": {},
   "outputs": [],
   "source": [
    "\n",
    "# Training Data set on the Defined keras model----->>>>\n",
    "\n",
    "history = model.fit(X, y,validation_split=0.33, epochs=500, batch_size=50)\n",
    "\n",
    "\n",
    "\n",
    "                    "
   ]
  },
  {
   "cell_type": "code",
   "execution_count": null,
   "id": "0c277598",
   "metadata": {},
   "outputs": [],
   "source": [
    "display(X2)"
   ]
  },
  {
   "cell_type": "code",
   "execution_count": null,
   "id": "0c16ec42",
   "metadata": {},
   "outputs": [],
   "source": [
    "\n",
    "# Evaluation of keras model--->>>\n",
    "\n",
    "_, accuracy = model.evaluate(X, y)\n",
    "print('Accuracy: %.2f' % (accuracy * 100))\n",
    "\n",
    "\n",
    "# Making probability predictions with the model\n",
    "\n",
    "predictions = model.predict(X2)\n",
    "\n",
    "\n",
    "# Rounding the predictions\n",
    "\n",
    "rounded = [round(x[0]) for x in predictions]\n",
    "\n",
    "\n",
    "print(\"predicted value is\"+str(rounded))\n",
    "print(\"actual value was\"+str(list(df.iloc[row_num_for_verification_of_model:,column_number_of_csv_having_labels])))\n",
    "\n",
    "\n",
    "model.save('.')"
   ]
  }
 ],
 "metadata": {
  "kernelspec": {
   "display_name": "Python 3",
   "language": "python",
   "name": "python3"
  },
  "language_info": {
   "codemirror_mode": {
    "name": "ipython",
    "version": 3
   },
   "file_extension": ".py",
   "mimetype": "text/x-python",
   "name": "python",
   "nbconvert_exporter": "python",
   "pygments_lexer": "ipython3",
   "version": "3.10.7"
  },
  "vscode": {
   "interpreter": {
    "hash": "7419d563495d29fec9c24ce876f396206e8eab1dd974251c306461c74a2a2a89"
   }
  }
 },
 "nbformat": 4,
 "nbformat_minor": 5
}
